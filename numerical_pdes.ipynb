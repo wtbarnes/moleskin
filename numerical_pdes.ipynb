{
 "cells": [
  {
   "cell_type": "markdown",
   "metadata": {},
   "source": [
    "# 3D Diffusion Equation in Cylindrical Coordinates"
   ]
  },
  {
   "cell_type": "code",
   "execution_count": 5,
   "metadata": {
    "collapsed": true
   },
   "outputs": [],
   "source": [
    "import numpy as np\n",
    "import matplotlib.pyplot as plt\n",
    "import matplotlib.colors\n",
    "import seaborn as sns\n",
    "import numba\n",
    "import astropy.units as u\n",
    "from IPython.display import HTML\n",
    "\n",
    "sns.set_context(context='notebook',font_scale=1.5)\n",
    "\n",
    "%matplotlib inline"
   ]
  },
  {
   "cell_type": "markdown",
   "metadata": {},
   "source": [
    "We want to solve the 3D heat equation on a finite cylinder. The relevant PDE is,\n",
    "$$\n",
    "\\frac{1}{\\alpha}\\frac{\\partial T}{\\partial t} = \\frac{1}{r}\\frac{\\partial}{\\partial r}\\left(r\\frac{\\partial T}{\\partial r}\\right) + \\frac{1}{r^2}\\frac{\\partial^2 T}{\\partial \\phi^2} + \\frac{\\partial^2 T}{\\partial z^2},\n",
    "$$\n",
    "subject to the boundary conditions,\n",
    "$$\n",
    "T(r,\\phi,z,0)=T_0 \\\\\n",
    "T(R,\\phi,z,t)=T_a \\\\\n",
    "T(r,\\phi,0,t)=T_a \\\\\n",
    "t(r,\\phi,L,t)=T_a \\\\\n",
    "$$\n",
    "We could also include an additional boundary condition on $r,\\phi$ to account for uneven heating around the outside."
   ]
  },
  {
   "cell_type": "markdown",
   "metadata": {},
   "source": [
    "We need to discretize this equation in order to solve it numerically. Using a forward-differencing scheme, this will look like,\n",
    "$$\n",
    "\\frac{1}{\\alpha}\\frac{T^{n+1}_{ijk}-T^n_{ijk}}{\\Delta t} = \\frac{r_{i+1/2}(\\frac{T^n_{i+1,j,k} - T^n_{ijk}}{\\Delta r}) - r_{i-1/2}(\\frac{T^n_{ijk} - T^n_{i-1,j,k}}{\\Delta r})}{r_i\\Delta r} + \\frac{T^n_{i,j+1,k} - 2T^n_{ijk} + T^n_{i,j-1,k}}{r_i^2\\Delta\\phi^2} + \\frac{T^n_{i,j,k+1} - 2T^n_{ijk} + T^n_{i,j,k-1}}{\\Delta z^2}\n",
    "$$"
   ]
  },
  {
   "cell_type": "code",
   "execution_count": 6,
   "metadata": {
    "collapsed": true
   },
   "outputs": [],
   "source": [
    "# in meters\n",
    "radius = 8.0e-2\n",
    "length = 25.0e-2\n",
    "delta_phi = 0.1\n",
    "delta_z = 1.0e-2\n",
    "delta_r = 0.1e-2\n",
    "delta_t = 0.5\n",
    "r = np.arange(5e-3,radius+delta_r,delta_r)\n",
    "phi = np.arange(0,2.0*np.pi+delta_phi,delta_phi)\n",
    "z = np.arange(0.0,length+delta_z,delta_z)"
   ]
  },
  {
   "cell_type": "code",
   "execution_count": 7,
   "metadata": {
    "collapsed": true
   },
   "outputs": [],
   "source": [
    "#thermal diffusivity constant, using the thermal conductivity and specific heat capacity of cow muscle \n",
    "#and the density of human muscle\n",
    "alpha = 0.42/(1.0599e+3*3.52e+3)"
   ]
  },
  {
   "cell_type": "markdown",
   "metadata": {},
   "source": [
    "We need to check that we are obeying the CFL stability condition,\n",
    "$$\n",
    "\\frac{\\alpha\\tau}{h^2}\\leq\\frac{1}{4}\n",
    "$$"
   ]
  },
  {
   "cell_type": "code",
   "execution_count": 8,
   "metadata": {
    "collapsed": false
   },
   "outputs": [],
   "source": [
    "if np.max(alpha*delta_t/(np.array([delta_r,np.min(r)*delta_phi,delta_z])**2)) > 0.25:\n",
    "    delta_t = np.min(np.array([delta_r,np.min(r)*delta_phi,delta_z]))**2/alpha*0.25"
   ]
  },
  {
   "cell_type": "markdown",
   "metadata": {},
   "source": [
    "Set some of the boundary and initial conditions."
   ]
  },
  {
   "cell_type": "code",
   "execution_count": 9,
   "metadata": {
    "collapsed": true
   },
   "outputs": [],
   "source": [
    "def intial_temperature_distribution():\n",
    "    return 293.0\n",
    "def outer_temperature_distribution(phi,z):\n",
    "    air_temp = 491.0\n",
    "    surface_temp = 691.0\n",
    "    return np.outer((surface_temp - air_temp)*np.exp(-(phi - np.pi)**2/((np.pi/6)**2)) + air_temp,np.ones(len(z)))\n",
    "def endcaps_temperature_distribution():\n",
    "    return 491.0"
   ]
  },
  {
   "cell_type": "code",
   "execution_count": 10,
   "metadata": {
    "collapsed": true
   },
   "outputs": [],
   "source": [
    "solutions = []\n",
    "time = []\n",
    "cylinder = np.ones([len(r),len(phi),len(z)])*intial_temperature_distribution()\n",
    "old_cylinder = cylinder\n",
    "cur_time = 0.0\n",
    "solutions.append(np.copy(cylinder))\n",
    "time.append(cur_time)\n",
    "total_time = 7200"
   ]
  },
  {
   "cell_type": "code",
   "execution_count": 11,
   "metadata": {
    "collapsed": false
   },
   "outputs": [],
   "source": [
    "@numba.jit\n",
    "def solve_heat_eq(cylinder,old_cylinder,r,phi,z,delta_r,delta_phi,delta_z):\n",
    "    for i in range(1,len(r)-1):\n",
    "        for j in range(1,len(phi)-1):\n",
    "            for k in range(1,len(z)-1):\n",
    "                r_term_1 = (r[i+1] + r[i])/2.0*(old_cylinder[i+1,j,k] - old_cylinder[i,j,k])/delta_r\n",
    "                r_term_2 = (r[i-1] + r[i])/2.0*(old_cylinder[i,j,k] - old_cylinder[i-1,j,k])/delta_r\n",
    "                r_term = (r_term_1 - r_term_2)/(r[i]*delta_r)\n",
    "                phi_term = (old_cylinder[i,j+1,k] - 2.*old_cylinder[i,j,k] + old_cylinder[i,j-1,k])/(r[i]**2*delta_phi**2)\n",
    "                z_term = (old_cylinder[i,j,k+1] - 2.*old_cylinder[i,j,k] + old_cylinder[i,j,k-1])/(delta_z**2)\n",
    "                cylinder[i,j,k] = old_cylinder[i,j,k] + alpha*delta_t*(r_term + phi_term + z_term)\n",
    "    return cylinder"
   ]
  },
  {
   "cell_type": "code",
   "execution_count": 12,
   "metadata": {
    "collapsed": false,
    "scrolled": true
   },
   "outputs": [],
   "source": [
    "while cur_time < total_time:\n",
    "    #update time\n",
    "    cur_time += delta_t\n",
    "    #print('time = {}'.format(cur_time))\n",
    "    cylinder = solve_heat_eq(cylinder,old_cylinder,r,phi,z,delta_r,delta_phi,delta_z)\n",
    "    #set boundary conditions\n",
    "    #r\n",
    "    cylinder[0,:,:] = cylinder[1,:,:]\n",
    "    cylinder[-1,:,:] = outer_temperature_distribution(phi,z)\n",
    "    #phi\n",
    "    cylinder[:,0,:] = cylinder[:,1,:]\n",
    "    cylinder[:,-1,:] = cylinder[:,1,:]\n",
    "    #z\n",
    "    cylinder[:,:,0] = endcaps_temperature_distribution()\n",
    "    cylinder[:,:,-1] = endcaps_temperature_distribution()\n",
    "    #save time and solution\n",
    "    solutions.append(np.copy(cylinder))\n",
    "    time.append(cur_time)\n",
    "    old_cylinder = cylinder"
   ]
  },
  {
   "cell_type": "code",
   "execution_count": 13,
   "metadata": {
    "collapsed": true
   },
   "outputs": [],
   "source": [
    "def make_frame(fig,sol,time):\n",
    "    ax = fig.add_subplot(122,polar=True)\n",
    "    ax2 = fig.add_subplot(121)\n",
    "    im = ax.pcolormesh(PHI,R,\n",
    "                       ((sol[-1][:,:,13].T)*u.K).to(u.imperial.deg_F,\n",
    "                                                        equivalencies=u.equivalencies.temperature()).value,\n",
    "                       vmin=32,vmax=500,\n",
    "                      cmap=matplotlib.colors.ListedColormap(sns.color_palette('coolwarm',n_colors=1000))\n",
    "              )\n",
    "    cbaxes = fig.add_axes([0.53, 0.18, 0.4, 0.03]) \n",
    "    cb = fig.colorbar(im,cax=cbaxes,orientation='horizontal')\n",
    "    ax.set_rticks([])\n",
    "    ax.set_thetagrids([])\n",
    "    ax.set_rmax(radius)\n",
    "    ax.set_rmin(r[0])\n",
    "    ax.set_title(r'$t={t:.1f}$ min'.format(t=(time[-1]*u.s).to(u.minute).value))\n",
    "    cb.set_label(r'$T$ ($^{\\circ}$F)')\n",
    "    ax2.plot(time,((np.array([s[0,0,13] for s in sol])*u.K).to(u.imperial.deg_F,\n",
    "                                                        equivalencies=u.equivalencies.temperature()).value))\n",
    "    ax2.set_xlabel(r'$t$ (s)')\n",
    "    ax2.set_ylabel(r'$T(r=0)$ ($^{\\circ}$F)')\n",
    "    ax2.set_xlim([0,total_time])\n",
    "    ax2.set_ylim([60,200])"
   ]
  },
  {
   "cell_type": "code",
   "execution_count": 14,
   "metadata": {
    "collapsed": false
   },
   "outputs": [
    {
     "data": {
      "text/plain": [
       "<matplotlib.figure.Figure at 0x7f6d2d3b3d30>"
      ]
     },
     "metadata": {},
     "output_type": "display_data"
    }
   ],
   "source": [
    "R,PHI = np.meshgrid(r,phi)\n",
    "fig = plt.figure(figsize=(12,8))\n",
    "for i in range(len(time)):\n",
    "    if time[i]%60==0:\n",
    "        make_frame(fig,solutions[:i+1],time[:i+1])\n",
    "        #plt.tight_layout()\n",
    "        plt.savefig('temp_figs/frame_{num:06d}.pdf'.format(num=i))\n",
    "        fig.clf()"
   ]
  },
  {
   "cell_type": "code",
   "execution_count": 15,
   "metadata": {
    "collapsed": false
   },
   "outputs": [],
   "source": [
    "%%bash\n",
    "convert -delay 10 -loop 0 temp_figs/*.pdf tenderloin_cooking.gif"
   ]
  },
  {
   "cell_type": "code",
   "execution_count": 16,
   "metadata": {
    "collapsed": false
   },
   "outputs": [
    {
     "data": {
      "text/html": [
       "<img src=\"tenderloin_cooking.gif\"/>"
      ],
      "text/plain": [
       "<IPython.core.display.HTML object>"
      ]
     },
     "execution_count": 16,
     "metadata": {},
     "output_type": "execute_result"
    }
   ],
   "source": [
    "HTML('<img src=\"tenderloin_cooking.gif\"/>')"
   ]
  },
  {
   "cell_type": "code",
   "execution_count": null,
   "metadata": {
    "collapsed": true
   },
   "outputs": [],
   "source": []
  }
 ],
 "metadata": {
  "anaconda-cloud": {},
  "kernelspec": {
   "display_name": "Python [conda root]",
   "language": "python",
   "name": "conda-root-py"
  },
  "language_info": {
   "codemirror_mode": {
    "name": "ipython",
    "version": 3
   },
   "file_extension": ".py",
   "mimetype": "text/x-python",
   "name": "python",
   "nbconvert_exporter": "python",
   "pygments_lexer": "ipython3",
   "version": "3.4.5"
  }
 },
 "nbformat": 4,
 "nbformat_minor": 1
}
